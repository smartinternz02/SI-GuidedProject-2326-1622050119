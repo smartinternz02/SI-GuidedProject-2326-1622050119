{
 "cells": [
  {
   "cell_type": "code",
   "execution_count": 1,
   "metadata": {},
   "outputs": [],
   "source": [
    "from tensorflow.keras.models import Sequential\n",
    "from tensorflow.keras.layers import Dense\n",
    "from tensorflow.keras.layers import Convolution2D\n",
    "from tensorflow.keras.layers import MaxPooling2D\n",
    "from tensorflow.keras.layers import Flatten"
   ]
  },
  {
   "cell_type": "code",
   "execution_count": 2,
   "metadata": {},
   "outputs": [
    {
     "name": "stderr",
     "output_type": "stream",
     "text": [
      "Using TensorFlow backend.\n"
     ]
    }
   ],
   "source": [
    "from keras.preprocessing.image import ImageDataGenerator\n",
    "train_datagen =  ImageDataGenerator(rescale = 1./255,shear_range = 0.2,zoom_range = 0.2,horizontal_flip = True)\n",
    "test_datagen =  ImageDataGenerator(rescale = 1./255)"
   ]
  },
  {
   "cell_type": "code",
   "execution_count": 3,
   "metadata": {},
   "outputs": [
    {
     "name": "stdout",
     "output_type": "stream",
     "text": [
      "Found 160 images belonging to 2 classes.\n",
      "Found 40 images belonging to 2 classes.\n"
     ]
    }
   ],
   "source": [
    "x_train = train_datagen.flow_from_directory(r\"E:\\varunkumar\\intenship\\Breast Cancer\\Breast Cancer\\train\",target_size = (128,128),batch_size = 32, class_mode =\"binary\")\n",
    "x_test = test_datagen.flow_from_directory(r\"E:\\varunkumar\\intenship\\Breast Cancer\\Breast Cancer\\test\",target_size = (128,128),batch_size = 32, class_mode =\"binary\")\n"
   ]
  },
  {
   "cell_type": "code",
   "execution_count": 4,
   "metadata": {},
   "outputs": [],
   "source": [
    "model = Sequential()"
   ]
  },
  {
   "cell_type": "code",
   "execution_count": 5,
   "metadata": {},
   "outputs": [
    {
     "name": "stdout",
     "output_type": "stream",
     "text": [
      "WARNING:tensorflow:From F:\\anaconda\\lib\\site-packages\\tensorflow\\python\\ops\\init_ops.py:1251: calling VarianceScaling.__init__ (from tensorflow.python.ops.init_ops) with dtype is deprecated and will be removed in a future version.\n",
      "Instructions for updating:\n",
      "Call initializer instance with the dtype argument instead of passing it to the constructor\n"
     ]
    }
   ],
   "source": [
    "model.add(Convolution2D(32,(3,3) ,input_shape = (128,128,3),activation = \"relu\"))"
   ]
  },
  {
   "cell_type": "code",
   "execution_count": 6,
   "metadata": {},
   "outputs": [],
   "source": [
    "model.add(MaxPooling2D(2,2))"
   ]
  },
  {
   "cell_type": "code",
   "execution_count": 7,
   "metadata": {},
   "outputs": [],
   "source": [
    "model.add(Flatten())"
   ]
  },
  {
   "cell_type": "code",
   "execution_count": 8,
   "metadata": {},
   "outputs": [
    {
     "name": "stdout",
     "output_type": "stream",
     "text": [
      "WARNING:tensorflow:From F:\\anaconda\\lib\\site-packages\\tensorflow\\python\\keras\\initializers.py:119: calling RandomUniform.__init__ (from tensorflow.python.ops.init_ops) with dtype is deprecated and will be removed in a future version.\n",
      "Instructions for updating:\n",
      "Call initializer instance with the dtype argument instead of passing it to the constructor\n"
     ]
    }
   ],
   "source": [
    "model.add(Dense(units = 512,activation = \"relu\",kernel_initializer = \"random_uniform\"))"
   ]
  },
  {
   "cell_type": "code",
   "execution_count": 9,
   "metadata": {},
   "outputs": [],
   "source": [
    "model.add(Dense(units = 1,activation = \"sigmoid\",kernel_initializer = \"random_uniform\"))"
   ]
  },
  {
   "cell_type": "code",
   "execution_count": 10,
   "metadata": {},
   "outputs": [
    {
     "name": "stdout",
     "output_type": "stream",
     "text": [
      "WARNING:tensorflow:From F:\\anaconda\\lib\\site-packages\\tensorflow\\python\\ops\\nn_impl.py:180: add_dispatch_support.<locals>.wrapper (from tensorflow.python.ops.array_ops) is deprecated and will be removed in a future version.\n",
      "Instructions for updating:\n",
      "Use tf.where in 2.0, which has the same broadcast rule as np.where\n"
     ]
    }
   ],
   "source": [
    "model.compile(\"sgd\",loss = \"binary_crossentropy\",metrics = [\"accuracy\"])"
   ]
  },
  {
   "cell_type": "code",
   "execution_count": 11,
   "metadata": {},
   "outputs": [
    {
     "name": "stdout",
     "output_type": "stream",
     "text": [
      "Epoch 1/25\n",
      "5/5 [==============================] - 16s 3s/step - loss: 1.2477 - acc: 0.4875 - val_loss: 0.5472 - val_acc: 0.9732\n",
      "Epoch 2/25\n",
      "5/5 [==============================] - 6s 1s/step - loss: 0.5391 - acc: 0.9125 - val_loss: 0.4407 - val_acc: 0.9286\n",
      "Epoch 3/25\n",
      "5/5 [==============================] - 7s 1s/step - loss: 0.5108 - acc: 0.7000 - val_loss: 0.3524 - val_acc: 1.0000\n",
      "Epoch 4/25\n",
      "5/5 [==============================] - 7s 1s/step - loss: 0.3920 - acc: 0.9125 - val_loss: 0.3831 - val_acc: 0.6786\n",
      "Epoch 5/25\n",
      "5/5 [==============================] - 7s 1s/step - loss: 0.4390 - acc: 0.7812 - val_loss: 0.2236 - val_acc: 1.0000\n",
      "Epoch 6/25\n",
      "5/5 [==============================] - 8s 2s/step - loss: 0.3890 - acc: 0.8375 - val_loss: 0.6572 - val_acc: 0.5357\n",
      "Epoch 7/25\n",
      "5/5 [==============================] - 7s 1s/step - loss: 0.5269 - acc: 0.7750 - val_loss: 0.2625 - val_acc: 0.9464\n",
      "Epoch 8/25\n",
      "5/5 [==============================] - 8s 2s/step - loss: 0.3062 - acc: 0.9062 - val_loss: 0.1644 - val_acc: 1.0000\n",
      "Epoch 9/25\n",
      "5/5 [==============================] - 7s 1s/step - loss: 0.2582 - acc: 0.9250 - val_loss: 0.1768 - val_acc: 1.0000\n",
      "Epoch 10/25\n",
      "5/5 [==============================] - 7s 1s/step - loss: 0.3378 - acc: 0.8938 - val_loss: 0.3437 - val_acc: 0.7946\n",
      "Epoch 11/25\n",
      "5/5 [==============================] - 8s 2s/step - loss: 0.5274 - acc: 0.8000 - val_loss: 0.1679 - val_acc: 1.0000\n",
      "Epoch 12/25\n",
      "5/5 [==============================] - 15s 3s/step - loss: 0.2504 - acc: 0.9438 - val_loss: 0.1369 - val_acc: 1.0000\n",
      "Epoch 13/25\n",
      "5/5 [==============================] - 8s 2s/step - loss: 0.2431 - acc: 0.9312 - val_loss: 0.1109 - val_acc: 1.0000\n",
      "Epoch 14/25\n",
      "5/5 [==============================] - 7s 1s/step - loss: 0.4557 - acc: 0.8250 - val_loss: 0.6732 - val_acc: 0.5446\n",
      "Epoch 15/25\n",
      "5/5 [==============================] - 7s 1s/step - loss: 0.4523 - acc: 0.8562 - val_loss: 0.1702 - val_acc: 1.0000\n",
      "Epoch 16/25\n",
      "5/5 [==============================] - 7s 1s/step - loss: 0.2515 - acc: 0.9375 - val_loss: 0.1172 - val_acc: 1.0000\n",
      "Epoch 17/25\n",
      "5/5 [==============================] - 7s 1s/step - loss: 0.2714 - acc: 0.9125 - val_loss: 0.2579 - val_acc: 0.8393\n",
      "Epoch 18/25\n",
      "5/5 [==============================] - 7s 1s/step - loss: 0.2888 - acc: 0.9062 - val_loss: 0.0937 - val_acc: 1.0000\n",
      "Epoch 19/25\n",
      "5/5 [==============================] - 7s 1s/step - loss: 0.2605 - acc: 0.9000 - val_loss: 0.4195 - val_acc: 0.7321\n",
      "Epoch 20/25\n",
      "5/5 [==============================] - 7s 1s/step - loss: 0.4160 - acc: 0.8438 - val_loss: 0.1193 - val_acc: 1.0000\n",
      "Epoch 21/25\n",
      "5/5 [==============================] - 7s 1s/step - loss: 0.2233 - acc: 0.9438 - val_loss: 0.0918 - val_acc: 1.0000\n",
      "Epoch 22/25\n",
      "5/5 [==============================] - 7s 1s/step - loss: 0.2122 - acc: 0.9375 - val_loss: 0.0755 - val_acc: 1.0000\n",
      "Epoch 23/25\n",
      "5/5 [==============================] - 7s 1s/step - loss: 0.2131 - acc: 0.9438 - val_loss: 0.0624 - val_acc: 1.0000\n",
      "Epoch 24/25\n",
      "5/5 [==============================] - 7s 1s/step - loss: 0.2121 - acc: 0.9375 - val_loss: 0.0834 - val_acc: 1.0000\n",
      "Epoch 25/25\n",
      "5/5 [==============================] - 7s 1s/step - loss: 0.2221 - acc: 0.9438 - val_loss: 0.1027 - val_acc: 1.0000\n"
     ]
    },
    {
     "data": {
      "text/plain": [
       "<tensorflow.python.keras.callbacks.History at 0x1a0161dd630>"
      ]
     },
     "execution_count": 11,
     "metadata": {},
     "output_type": "execute_result"
    }
   ],
   "source": [
    "model.fit_generator(x_train ,steps_per_epoch = 5 ,epochs = 25,validation_data= x_test , validation_steps = 5)"
   ]
  },
  {
   "cell_type": "code",
   "execution_count": 14,
   "metadata": {},
   "outputs": [],
   "source": [
    "model.save(\"BC.h5\")"
   ]
  },
  {
   "cell_type": "code",
   "execution_count": null,
   "metadata": {},
   "outputs": [],
   "source": []
  }
 ],
 "metadata": {
  "kernelspec": {
   "display_name": "Python 3",
   "language": "python",
   "name": "python3"
  },
  "language_info": {
   "codemirror_mode": {
    "name": "ipython",
    "version": 3
   },
   "file_extension": ".py",
   "mimetype": "text/x-python",
   "name": "python",
   "nbconvert_exporter": "python",
   "pygments_lexer": "ipython3",
   "version": "3.7.3"
  }
 },
 "nbformat": 4,
 "nbformat_minor": 4
}
